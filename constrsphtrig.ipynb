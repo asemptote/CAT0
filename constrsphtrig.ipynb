{
 "cells": [
  {
   "cell_type": "markdown",
   "metadata": {},
   "source": [
    "# Derivations for `constrsphtrig.py`: _Constructible spherical trigonometry in Python_\n",
    "\n",
    "This document outlines the mathematical derivations underlying a number of algorithms in `constrsphtrig.py`.\n",
    "We represent a point on the unit 2-sphere using spherical coordinates $p=(\\phi_p,\\theta_p)$, where $-\\pi/2\\leq\\phi\\leq\\pi/2$ is its latitude and $-\\pi<\\theta\\leq\\pi$ its longitude.\n",
    "$d_{ab}$ gives the distance between two points, and $\\angle_{abc}$ the angle between three points.\n",
    "\n",
    "For a spherical triangle with vertices $a,b,c$, the\n",
    "[spherical cosine rule](https://en.wikipedia.org/wiki/Spherical_law_of_cosines)\n",
    "gives\n",
    "\n",
    "$$\n",
    "    \\cos d_{ab} = \\cos d_{ac} \\cos d_{bc} + \\sin d_{ac} \\sin d_{bc} \\cos\\angle _{acb} ~.\n",
    "$$\n",
    "\n",
    "Given any two points $a,b$ on the unit sphere, the\n",
    "[geodesic distance](https://en.wikipedia.org/wiki/Great-circle_distance)\n",
    "is\n",
    "\n",
    "$$\n",
    "    \\cos d_{ab} = \\sin\\phi_a \\sin\\phi_b + \\cos\\phi_a \\cos\\phi_b \\cos(\\theta_a-\\theta_b) ~,\n",
    "$$\n",
    "\n",
    "while the\n",
    "[Cartesian coordinates](https://en.wikipedia.org/wiki/Spherical_coordinate_system#Cartesian_coordinates)\n",
    "of any point $p$ on the sphere are\n",
    "\n",
    "$$\n",
    "    \\mathbf{p} = (x_p, y_p, z_p)\n",
    "    = (\\cos\\phi_p \\cos\\theta_p, \\cos\\phi_p \\sin\\theta_p, \\sin\\phi_p) ~.\n",
    "$$"
   ]
  },
  {
   "cell_type": "markdown",
   "metadata": {},
   "source": [
    "## `ConstrSphPoint.ang(self, lon_e=zero)`: _Returns the angle between `self` and the equator at a given longitude._\n",
    "\n",
    "Given a point $p$ and a point on the equator $q$, compute $\\angle_{pqq'} := \\angle_{(\\phi_q,\\theta_q) (0,\\theta_q) (0,\\theta_q+\\pi/2)}$.\n",
    "Assume that $p\\not\\in\\{q,(0,\\theta_q+\\pi)\\}$.\n",
    "Since $d_{q'q}=\\pi/2$, the spherical cosine rule yields\n",
    "\n",
    "$$\n",
    "    \\cos\\angle_{pqq'}\n",
    "    = \\frac{\\cos d_{pq'}}{\\sin d_{pq}} ~.\n",
    "$$\n",
    "\n",
    "The geodesic distance formula then gives the necessary data to obtain the numerator and denominator, noting that $\\phi_q=\\phi_{q'}=0$:\n",
    "\n",
    "\\begin{align}\n",
    "    \\cos d_{pq'} &= \\cos\\phi_p \\sin(\\theta_p-\\theta_q) ~, \\\\\n",
    "    \\cos d_{pq} &= \\cos\\phi_p \\cos(\\theta_p-\\theta_q) ~.\n",
    "\\end{align}"
   ]
  },
  {
   "cell_type": "markdown",
   "metadata": {},
   "source": [
    "## `ConstrSphPoint.linear(a, b, d_ac, d_bc)`: _Solves the linear problem in spherical geometry._\n",
    "\n",
    "_Given two points of a spherical triangle and distances from these points to\n",
    "        the third point, this function returns the list of possible third points $c$._\n",
    "\n",
    "Here, we solve for $x_c, y_c$ linearly in terms of $z_c$ and then apply the nonlinear condition $\\mathbf{c}\\cdot\\mathbf{c}=1$.\n",
    "The geodesic distance formula expressed in Cartesian coordinates succinctly yields $\\cos d_{ab} = \\mathbf{a}\\cdot\\mathbf{b} = \\mathbf{a}^T \\mathbf{b}$, so that\n",
    "\n",
    "$$\n",
    "\\begin{pmatrix}\n",
    "    \\cos d_{ac} \\\\ \\cos d_{bc}\n",
    "\\end{pmatrix}\n",
    "= \\begin{pmatrix}\n",
    "    \\mathbf{a}^T \\\\ \\mathbf{b}^T\n",
    "\\end{pmatrix} \\mathbf{c}\n",
    "= \\begin{pmatrix}\n",
    "    x_a & y_a \\\\\n",
    "    x_b & y_b\n",
    "\\end{pmatrix}\n",
    "\\begin{pmatrix}\n",
    "    x_c \\\\ y_c\n",
    "\\end{pmatrix}\n",
    "+\n",
    "\\begin{pmatrix}\n",
    "    z_a \\\\ z_b\n",
    "\\end{pmatrix}z_c\n",
    "~.\n",
    "$$\n",
    "\n",
    "Thus"
   ]
  },
  {
   "cell_type": "markdown",
   "metadata": {},
   "source": [
    "$$\n",
    "\\begin{pmatrix}\n",
    "    x_c \\\\ y_c\n",
    "\\end{pmatrix}\n",
    "=\n",
    "\\begin{pmatrix}\n",
    "    x_a & y_a \\\\\n",
    "    x_b & y_b\n",
    "\\end{pmatrix}^{-1}\n",
    "\\left(\n",
    "\\begin{pmatrix}\n",
    "    \\cos d_{ac} \\\\ \\cos d_{bc}\n",
    "\\end{pmatrix}\n",
    "- \\begin{pmatrix}\n",
    "    z_a \\\\ z_b\n",
    "\\end{pmatrix}z_c\n",
    "\\right)\n",
    "$$"
   ]
  },
  {
   "cell_type": "markdown",
   "metadata": {},
   "source": [
    "Denoting\n",
    "\n",
    "$$\n",
    "    M :=\n",
    "\\begin{pmatrix}\n",
    "    x_a & y_a \\\\\n",
    "    x_b & y_b\n",
    "\\end{pmatrix}, ~\n",
    "\\mathbf{d'} := \n",
    "\\begin{pmatrix}\n",
    "    \\cos d_{ac} \\\\ \\cos d_{bc}\n",
    "\\end{pmatrix}, ~\n",
    "\\mathbf{z'} := \n",
    "\\begin{pmatrix}\n",
    "    z_a \\\\ z_b\n",
    "\\end{pmatrix}\n",
    "$$\n",
    "\n",
    "allows one to express the above as"
   ]
  },
  {
   "cell_type": "markdown",
   "metadata": {},
   "source": [
    "$$\\begin{equation}\n",
    "\\begin{pmatrix}\n",
    "    x_c \\\\ y_c\n",
    "\\end{pmatrix}\n",
    "=\n",
    "\\frac{1}{\\det M}\n",
    "\\begin{pmatrix}\n",
    "    y_b & -y_a \\\\\n",
    "    -x_b & x_a\n",
    "\\end{pmatrix}^{-1}\n",
    "(\\mathbf{d'} - \\mathbf{z'}z_c) ~. \\tag{1}\n",
    "\\end{equation}$$"
   ]
  },
  {
   "cell_type": "markdown",
   "metadata": {},
   "source": [
    "Applying the unit spherical condition $\\mathbf{c}\\cdot\\mathbf{c}=1$ gives\n",
    "\n",
    "$$\n",
    "    \\frac{1}{\\det^2 M} \\left(\n",
    "        (y_b,-y_a)\\cdot(\\mathbf{d'}-\\mathbf{z'}z_c)~^2 + \n",
    "        (-x_b,x_a)\\cdot(\\mathbf{d'}-\\mathbf{z'}z_c)~^2\n",
    "    \\right)\n",
    "    + z_c^2 = 1 ~,\n",
    "$$"
   ]
  },
  {
   "cell_type": "markdown",
   "metadata": {},
   "source": [
    "which is a quadratic equation in $z_c$.\n",
    "Collecting its coefficients, this quadratic equation has the form $\\alpha_2 z_c^2 - 2 \\alpha_1 z_c + \\alpha_0 = 0$, where\n",
    "\n",
    "$$\n",
    "\\begin{align}\n",
    "    \\alpha_2 &:= \\alpha_{yz}^2 + \\alpha_{xz}^2 + \\det\\phantom{}^2 M \\\\\n",
    "    \\alpha_1 &:= \\alpha_{yd}\\alpha_{yz} + \\alpha_{xd}\\alpha_{xz} \\\\\n",
    "    \\alpha_0 &:= \\alpha_{yd}^2 + \\alpha_{xd}^2 - \\det\\phantom{}^2 M \\\\\n",
    "    \\alpha_{yu} &:= (y_b, -y_a) \\cdot \\mathbf{u'} \\\\\n",
    "    \\alpha_{xu} &:= (-x_b, x_a) \\cdot \\mathbf{u'}\n",
    "\\end{align}\n",
    "$$\n",
    "\n",
    "and $u\\in\\{d,z\\}$.\n",
    "The solution to this quadratic equation yields"
   ]
  },
  {
   "cell_type": "markdown",
   "metadata": {},
   "source": [
    "$$\n",
    "z_c = \\frac{\\alpha_1 \\pm \\sqrt{\\alpha_1^2 - \\alpha_2\\alpha_0}}{\\alpha_2} \\tag{2} ~.\n",
    "$$\n",
    "\n",
    "Substituting $(2)$ into $(1)$ recovers the Cartesian coordinates of $c$.\n",
    "Since the latitude always satisfies $\\cos\\phi\\geq0$, it can be recovered directly from the last Cartesian component:\n",
    "$$\n",
    "    \\phi_c = \\verb|ConstrAngle|\\left(\\mathrm{sgn}~z_c, \\sqrt{1-z_c^2}\\right) ~.\n",
    "$$"
   ]
  },
  {
   "cell_type": "markdown",
   "metadata": {},
   "source": [
    "The longitude satisfies $\\cos\\theta=\\frac{x}{\\cos\\phi}, \\sin\\theta=\\frac{y}{\\cos\\phi}$ so that\n",
    "\n",
    "$$\n",
    "\\theta_c = \\verb|ConstrAngle|\\left(\\mathrm{sgn}~y_c, \\frac{x_c}{\\sqrt{1-z_c^2}}\\right)\n",
    "$$"
   ]
  },
  {
   "cell_type": "markdown",
   "metadata": {},
   "source": [
    "### Edge cases\n",
    "\n",
    "The above derivation is not applicable when $\\det M=0$, which occurs when $\\cos\\phi_p=0$ for some $p\\in\\{a,b\\}$ (one of the points is on a pole) or $\\sin(\\theta_b-\\theta_a)=0$ (both points lie on the same or opposite line of longitude).\n",
    "<!--This edge case is collectively defined by the property\n",
    "\n",
    "$$\n",
    "\\cos\\phi_a\\cos\\phi_b\\sin(\\theta_b-\\theta_a)=0 ~. \\tag{3}\n",
    "$$\n",
    "-->"
   ]
  },
  {
   "cell_type": "markdown",
   "metadata": {},
   "source": [
    "Without loss of generality, assume that $\\cos\\phi_a=0$ or $\\sin(\\theta_b-\\theta_a)=0$.\n",
    "The geodesic distance formula gives\n",
    "\n",
    "$$\n",
    "\\begin{pmatrix}\n",
    "    \\cos d_{ac} \\\\ \\cos d_{bc}\n",
    "\\end{pmatrix}\n",
    "= \\underbrace{\n",
    "\\begin{pmatrix}\n",
    "    \\sin\\phi_a & m\\cos\\phi_a \\\\\n",
    "    \\sin\\phi_b & \\cos\\phi_b\n",
    "\\end{pmatrix}\n",
    "}_{N}\n",
    "\\begin{pmatrix}\n",
    "    \\sin\\phi_c \\\\ \\cos\\phi_c\\cos(\\theta_b-\\theta_c)\n",
    "\\end{pmatrix}\n",
    "$$\n",
    "\n",
    "where $m=\\cos(\\theta_a-\\theta_c)/\\cos(\\theta_b-\\theta_c)$ is relevant only when $\\sin(\\theta_b-\\theta_a)=0$, and attains the value $1$ if $\\theta_a=\\theta_b$, and $-1$ if $\\theta_a=\\pi+\\theta_b$.\n",
    "The matrix $N$ is guaranteed to have nonzero determinant under our assumptions and is thus invertible, so that"
   ]
  },
  {
   "cell_type": "markdown",
   "metadata": {},
   "source": [
    "$$\n",
    "\\begin{pmatrix}\n",
    "    \\sin\\phi_c \\\\ \\cos\\phi_c\\cos(\\theta_b-\\theta_c)\n",
    "\\end{pmatrix}\n",
    "=\n",
    "\\frac{1}{\\det N}\n",
    "\\begin{pmatrix}\n",
    "    \\cos\\phi_b & -m\\cos\\phi_a \\\\\n",
    "    -\\sin\\phi_b & \\sin\\phi_a\n",
    "\\end{pmatrix}\n",
    "\\begin{pmatrix}\n",
    "    \\cos d_{ac} \\\\ \\cos d_{bc}\n",
    "\\end{pmatrix} ~,\n",
    "$$"
   ]
  },
  {
   "cell_type": "markdown",
   "metadata": {},
   "source": [
    "from which one can read off $\\sin\\phi_c$ directly.\n",
    "Since the cosine of a latitude is always non-negative,"
   ]
  },
  {
   "cell_type": "markdown",
   "metadata": {},
   "source": [
    "$$\n",
    "\\phi_c = \\verb|ConstrAngle|\\left(\\mathrm{sgn}\\sin\\phi_c, \\sqrt{1-\\sin^2\\phi_c}\\right) ~.\n",
    "$$"
   ]
  },
  {
   "cell_type": "markdown",
   "metadata": {},
   "source": [
    "The latter matrix equation also allows one to read off $\\cos(\\theta_b-\\theta_c)$ directly, so that"
   ]
  },
  {
   "cell_type": "markdown",
   "metadata": {},
   "source": [
    "$$\n",
    "\\theta_b-\\theta_c = \\begin{cases}\n",
    "\\verb|ConstrAngle|\\left(\\pm1, (0,1)\\cdot N^{-1}\\mathbf{d'}\\right) \\qquad& \\text{if $\\cos(\\theta_b-\\theta_c)\\not\\in\\{-1,1\\}$,} \\\\\n",
    "\\verb|ConstrAngle|\\left(1, (0,1)\\cdot N^{-1}\\mathbf{d'}\\right) & \\text{otherwise.}\n",
    "\\end{cases}\n",
    "$$"
   ]
  },
  {
   "cell_type": "markdown",
   "metadata": {},
   "source": [
    "One can then unambiguously obtain the possible values of $\\theta_c$ by subtracting the previous expression from $\\theta_b$."
   ]
  },
  {
   "cell_type": "code",
   "execution_count": null,
   "metadata": {},
   "outputs": [],
   "source": []
  }
 ],
 "metadata": {
  "kernelspec": {
   "display_name": "Python 3",
   "language": "python",
   "name": "python3"
  },
  "language_info": {
   "codemirror_mode": {
    "name": "ipython",
    "version": 3
   },
   "file_extension": ".py",
   "mimetype": "text/x-python",
   "name": "python",
   "nbconvert_exporter": "python",
   "pygments_lexer": "ipython3",
   "version": "3.8.3"
  }
 },
 "nbformat": 4,
 "nbformat_minor": 4
}
